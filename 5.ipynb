{
 "cells": [
  {
   "cell_type": "markdown",
   "metadata": {
    "_uuid": "b1fae11de0ec606342e24857d18695ca3812a796"
   },
   "source": [
    "# Booleans\n",
    "\n",
    "Python has a type `bool` which can take on one of two values: `True` and `False`."
   ]
  },
  {
   "cell_type": "code",
   "execution_count": 1,
   "metadata": {
    "_uuid": "06e9f2feffd0314ef4ab9f411876a5b75b4feba3"
   },
   "outputs": [
    {
     "name": "stdout",
     "output_type": "stream",
     "text": [
      "True\n",
      "<class 'bool'>\n",
      "False\n"
     ]
    }
   ],
   "source": [
    "x = True\n",
    "print(x)\n",
    "print(type(x))\n",
    "\n",
    "y=15\n",
    "print(y==5)"
   ]
  },
  {
   "cell_type": "markdown",
   "metadata": {
    "_uuid": "c21ccb7a6431990990857e7ab95c8f559739820e"
   },
   "source": [
    "Rather than putting `True` or `False` directly in our code, we usually get boolean values from **boolean operators**. These are operators that answer yes/no questions. We'll go through some of these operators below. "
   ]
  },
  {
   "cell_type": "markdown",
   "metadata": {
    "_uuid": "0afd78698f2c8f9c2ff6c67676c992fe88bd9103"
   },
   "source": [
    "## Comparison Operations\n",
    "\n",
    "| Operation     | Description                       || Operation     | Description                          |\n",
    "|---------------|-----------------------------------||---------------|--------------------------------------|\n",
    "| ``a == b``    | ``a`` equal to ``b``              || ``a != b``    | ``a`` not equal to ``b``             |\n",
    "| ``a < b``     | ``a`` less than ``b``             || ``a > b``     | ``a`` greater than ``b``             |\n",
    "| ``a <= b``    | ``a`` less than or equal to ``b`` || ``a >= b``    | ``a`` greater than or equal to ``b`` |\n",
    "\n"
   ]
  },
  {
   "cell_type": "code",
   "execution_count": 2,
   "metadata": {
    "_uuid": "5c8a61f29b975db8af4daab3c9d2ac8b2e1f9ee1"
   },
   "outputs": [
    {
     "name": "stdout",
     "output_type": "stream",
     "text": [
      "Can a 19-year-old run for president? False\n",
      "Can a 45-year-old run for president? True\n"
     ]
    }
   ],
   "source": [
    "def can_run_for_president(age):\n",
    "    \"\"\"Can someone of the given age run for president in the US?\"\"\"\n",
    "    # The US Constitution says you must \"have attained to the Age of thirty-five Years\"\n",
    "    return age >= 35\n",
    "\n",
    "print(\"Can a 19-year-old run for president?\", can_run_for_president(19))\n",
    "print(\"Can a 45-year-old run for president?\", can_run_for_president(45))"
   ]
  },
  {
   "cell_type": "markdown",
   "metadata": {},
   "source": [
    "**HOT 🌶️ Challenge: <span title=\"A bit spicy\" style=\"color: darkgreen \"></span> Can you make it answer as YES or NO? (instead of True/False)**"
   ]
  },
  {
   "cell_type": "code",
   "execution_count": 3,
   "metadata": {},
   "outputs": [
    {
     "name": "stdout",
     "output_type": "stream",
     "text": [
      "Can a 19-year-old run for president? NO\n",
      "Can a 45-year-old run for president? YES\n"
     ]
    }
   ],
   "source": [
    "def can_run_for_president(age):\n",
    "    \"\"\"Can someone of the given age run for president in the US?\"\"\"\n",
    "    # The US Constitution says you must \"have attained to the Age of thirty-five Years\"\n",
    "    if age >= 35:\n",
    "        return 'YES'\n",
    "    else:\n",
    "        return 'NO'\n",
    "\n",
    "print(\"Can a 19-year-old run for president?\", can_run_for_president(19))\n",
    "print(\"Can a 45-year-old run for president?\", can_run_for_president(45))"
   ]
  },
  {
   "cell_type": "code",
   "execution_count": 4,
   "metadata": {},
   "outputs": [
    {
     "name": "stdout",
     "output_type": "stream",
     "text": [
      "Can a 19-year-old run for president? NO\n",
      "Can a 45-year-old run for president? YES\n"
     ]
    }
   ],
   "source": [
    "def can_run_for_president(age):\n",
    "    \"\"\"Can someone of the given age run for president in the US?\"\"\"\n",
    "    # The US Constitution says you must \"have attained to the Age of thirty-five Years\"\n",
    "    can_run = 'NO'\n",
    "    if age >= 35:\n",
    "        can_run = 'YES'\n",
    "    return can_run\n",
    "\n",
    "print(\"Can a 19-year-old run for president?\", can_run_for_president(19))\n",
    "print(\"Can a 45-year-old run for president?\", can_run_for_president(45))"
   ]
  },
  {
   "cell_type": "code",
   "execution_count": 5,
   "metadata": {},
   "outputs": [
    {
     "data": {
      "text/plain": [
       "int"
      ]
     },
     "execution_count": 5,
     "metadata": {},
     "output_type": "execute_result"
    }
   ],
   "source": [
    "type(int('3'))"
   ]
  },
  {
   "cell_type": "markdown",
   "metadata": {
    "_uuid": "dddf54cbe2a23f87df85792074be0ebac0b554d0"
   },
   "source": [
    "Comparisons are a little bit clever..."
   ]
  },
  {
   "cell_type": "code",
   "execution_count": 6,
   "metadata": {
    "_uuid": "1d38bff3f82a7bcf02d7cbd87f6e506a1eadf551"
   },
   "outputs": [
    {
     "data": {
      "text/plain": [
       "True"
      ]
     },
     "execution_count": 6,
     "metadata": {},
     "output_type": "execute_result"
    }
   ],
   "source": [
    "3.0 == 3"
   ]
  },
  {
   "cell_type": "markdown",
   "metadata": {
    "_uuid": "1657b72cdc993517efd8769294366b608d218f8f"
   },
   "source": [
    "But not too clever..."
   ]
  },
  {
   "cell_type": "code",
   "execution_count": 7,
   "metadata": {
    "_uuid": "1dc3204ad308e7495489aacab5e5c058047750f1"
   },
   "outputs": [
    {
     "data": {
      "text/plain": [
       "True"
      ]
     },
     "execution_count": 7,
     "metadata": {},
     "output_type": "execute_result"
    }
   ],
   "source": [
    "int('3') == 3\n",
    "\n",
    "#what can you do to make it smarter??"
   ]
  },
  {
   "cell_type": "markdown",
   "metadata": {
    "_uuid": "00ed9e49e8c3b5f4d54cd2d9780676e0c5506b97"
   },
   "source": [
    "Comparison operators can be combined with the arithmetic operators we've already seen to express a virtually limitless range of mathematical tests. For example, we can check if a number is odd by checking that the modulus with 2 returns 1:"
   ]
  },
  {
   "cell_type": "code",
   "execution_count": 8,
   "metadata": {
    "_uuid": "d61986ac192bf4210e59d19f0fb760629e824573"
   },
   "outputs": [
    {
     "name": "stdout",
     "output_type": "stream",
     "text": [
      "Is 100 odd? False\n",
      "Is -1 odd? True\n"
     ]
    }
   ],
   "source": [
    "def is_odd(n):\n",
    "    return (n % 2) == 1\n",
    "\n",
    "print(\"Is 100 odd?\", is_odd(100))\n",
    "print(\"Is -1 odd?\", is_odd(-1))"
   ]
  },
  {
   "cell_type": "markdown",
   "metadata": {
    "_uuid": "e6306caa16935e72e07472c2ccdd358c45cd7c27"
   },
   "source": [
    "Remember to use `==` instead of `=` when making comparisons. If you write `n == 2` you are asking about the value of n. When you write `n = 2` you are changing the value of n."
   ]
  },
  {
   "cell_type": "markdown",
   "metadata": {
    "_uuid": "a869697a31e009408839c7b82cebd774ec910f13"
   },
   "source": [
    "## Combining Boolean Values\n",
    "Python provides operators to combine boolean values using the standard concepts of \"and\", \"or\", and \"not\". And in fact, the corresponding Python operators use just those words: ``and``, ``or``, and ``not``.\n",
    "\n",
    "With these, we can make our `can_run_for_president` function more accurate."
   ]
  },
  {
   "cell_type": "code",
   "execution_count": 9,
   "metadata": {
    "_uuid": "7a4d10f9eba8208a944538fa1071da6048f11b56"
   },
   "outputs": [
    {
     "name": "stdout",
     "output_type": "stream",
     "text": [
      "False\n",
      "False\n",
      "True\n"
     ]
    }
   ],
   "source": [
    "def can_run_for_president(age, is_natural_born_citizen):\n",
    "    \"\"\"Can someone of the given age and citizenship status run for president in the US?\"\"\"\n",
    "    # The US Constitution says you must be a natural born citizen *and* at least 35 years old\n",
    "    return is_natural_born_citizen and (age >= 35)\n",
    "\n",
    "print(can_run_for_president(19, True))\n",
    "print(can_run_for_president(55, False))\n",
    "print(can_run_for_president(55, True))"
   ]
  },
  {
   "cell_type": "markdown",
   "metadata": {},
   "source": [
    "**Can you change it so that you ask the county of birth\n",
    "and if they were born in 'US', they are elligible**"
   ]
  },
  {
   "cell_type": "code",
   "execution_count": 12,
   "metadata": {},
   "outputs": [
    {
     "name": "stdout",
     "output_type": "stream",
     "text": [
      "Enter Your  Age444\n",
      "Enter your Country of Birth (US, CA, TR, etc..)\n"
     ]
    }
   ],
   "source": [
    "age = int(input(\"Enter Your  Age\"))\n",
    "country = input(\"Enter your Country of Birth (US, CA, TR, etc..)\")"
   ]
  },
  {
   "cell_type": "code",
   "execution_count": 11,
   "metadata": {},
   "outputs": [
    {
     "name": "stdout",
     "output_type": "stream",
     "text": [
      "False\n"
     ]
    }
   ],
   "source": [
    "def can_run_for_president(age, country):\n",
    "    \"\"\"Can someone of the given age and citizenship status run for president in the US?\"\"\"\n",
    "    # The US Constitution says you must be a natural born citizen *and* at least 35 years old\n",
    "    return (country=='US') and (age >= 35)\n",
    "\n",
    "print(can_run_for_president(age, country))"
   ]
  },
  {
   "cell_type": "code",
   "execution_count": null,
   "metadata": {},
   "outputs": [],
   "source": []
  },
  {
   "cell_type": "markdown",
   "metadata": {
    "_uuid": "40aa6b0f5058cc12f44149cc899cf7deb1f0f950"
   },
   "source": [
    "Quick, can you guess the value of this expression?"
   ]
  },
  {
   "cell_type": "markdown",
   "metadata": {
    "_uuid": "c2cb3b138b43b2c868c9025d3c31060ea5cd2789"
   },
   "source": [
    "# Conditionals\n",
    "\n",
    "While useful enough in their own right, booleans really start to shine when combined with *conditional statements*, using the keywords ``if``, ``elif``, and ``else``.\n",
    "\n",
    "Conditional statements, often referred to as *if-then* statements, allow the programmer to execute certain pieces of code depending on some Boolean condition.\n",
    "A basic example of a Python conditional statement is this:"
   ]
  },
  {
   "cell_type": "markdown",
   "metadata": {
    "_uuid": "c3b8e557971ee0e919c7dd15e2531848da6af470"
   },
   "source": [
    "## Conditional expressions (aka 'ternary')\n",
    "\n",
    "Setting a variable to either of two values depending on some condition is a pretty common pattern."
   ]
  },
  {
   "cell_type": "code",
   "execution_count": 13,
   "metadata": {
    "_uuid": "3935ab2a52042204251f7446971932f93a0a1c22"
   },
   "outputs": [
    {
     "name": "stdout",
     "output_type": "stream",
     "text": [
      "You passed the quiz with a grade of 80\n"
     ]
    }
   ],
   "source": [
    "def quiz_message(grade):\n",
    "    if grade < 50:\n",
    "        outcome = 'failed'\n",
    "    else:\n",
    "        outcome = 'passed'\n",
    "    print('You', outcome, 'the quiz with a grade of', grade)\n",
    "    \n",
    "quiz_message(80)"
   ]
  },
  {
   "cell_type": "code",
   "execution_count": null,
   "metadata": {},
   "outputs": [],
   "source": []
  }
 ],
 "metadata": {
  "kernelspec": {
   "display_name": "Python 3",
   "language": "python",
   "name": "python3"
  },
  "language_info": {
   "codemirror_mode": {
    "name": "ipython",
    "version": 3
   },
   "file_extension": ".py",
   "mimetype": "text/x-python",
   "name": "python",
   "nbconvert_exporter": "python",
   "pygments_lexer": "ipython3",
   "version": "3.6.5"
  },
  "learntools_metadata": {
   "lesson_index": 2,
   "type": "tutorial"
  }
 },
 "nbformat": 4,
 "nbformat_minor": 1
}
